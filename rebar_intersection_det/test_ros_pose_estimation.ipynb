{
 "cells": [
  {
   "cell_type": "code",
   "execution_count": 1,
   "id": "76bb9c62",
   "metadata": {},
   "outputs": [
    {
     "name": "stdout",
     "output_type": "stream",
     "text": [
      "Environment Ready\n"
     ]
    }
   ],
   "source": [
    "import cv2                                # state of the art computer vision algorithms library\n",
    "import numpy as np                        # fundamental package for scientific computing\n",
    "import matplotlib.pyplot as plt           # 2D plotting library producing publication quality figures\n",
    "import pyrealsense2 as rs                 # Intel RealSense cross-platform open-source API\n",
    "# import pyntcloud\n",
    "# from pyntcloud import PyntCloud\n",
    "import scipy\n",
    "from sklearn.neighbors import NearestNeighbors\n",
    "import itertools\n",
    "from scipy import linalg\n",
    "import matplotlib as mpl\n",
    "import src.realsense.dataset as rld\n",
    "import src.realsense.camera as rlc\n",
    "# import src.visual3d.geometry as geom\n",
    "import src.mymodel.gmm as mygmm\n",
    "import torch\n",
    "\n",
    "import rosbag\n",
    "from scipy import linalg\n",
    "from sklearn import mixture\n",
    "from sklearn import linear_model\n",
    "from sklearn.linear_model import LinearRegression\n",
    "import warnings\n",
    "warnings.filterwarnings('ignore')\n",
    "\n",
    "from matplotlib import animation, rc\n",
    "from IPython.display import HTML\n",
    "import matplotlib\n",
    "matplotlib.use(\"Agg\")\n",
    "import matplotlib.animation as manimation\n",
    "from IPython.display import Video, clear_output\n",
    "import time\n",
    "# from sklearn import linear_model\n",
    "\n",
    "from detect_pose_ros import get_pose\n",
    "\n",
    "print(\"Environment Ready\")\n",
    "\n",
    "# %matplotlib\n",
    "%load_ext autoreload\n",
    "%autoreload 2"
   ]
  },
  {
   "cell_type": "code",
   "execution_count": 2,
   "id": "0fc023c2",
   "metadata": {},
   "outputs": [],
   "source": [
    "# frame from bags\n",
    "bag_name = 'single_layer'\n",
    "np.random.seed(0)\n",
    "pipe = rs.pipeline()\n",
    "cfg = rs.config()\n",
    "cfg.enable_device_from_file(f\"data/{bag_name}.bag\")\n",
    "queue = rs.frame_queue(100)\n",
    "profile = pipe.start(cfg)\n",
    "playback = profile.get_device().as_playback()\n",
    "playback.set_real_time(False)\n",
    "# video writter\n",
    "\n",
    "FFMpegWriter = manimation.writers['ffmpeg']\n",
    "metadata = dict(title='Movie Test', artist='Matplotlib',\n",
    "                comment='Movie support!')\n",
    "writer = FFMpegWriter(fps=10, metadata=metadata)"
   ]
  },
  {
   "cell_type": "code",
   "execution_count": 3,
   "id": "df4bd0f2",
   "metadata": {},
   "outputs": [],
   "source": [
    "for a in range(0):\n",
    "    pipe.wait_for_frames()\n",
    "\n",
    "# get intrinsics\n",
    "bag = rosbag.Bag(f'data/{bag_name}.bag')\n",
    "count_loop = 0\n",
    "for topic, msg, t in bag.read_messages():\n",
    "    if 'Color_0/info/camera_info' in topic:\n",
    "        K = msg.K\n",
    "    count_loop +=1\n",
    "    if count_loop > 20:\n",
    "        break\n",
    "bag.close()\n",
    "K = np.array(K).reshape(3,3)\n",
    "        \n",
    "fig, axarr = plt.subplots(2,2,figsize=(11,6))\n",
    "axarr = axarr.flatten()\n",
    "total_frames = 1000\n"
   ]
  },
  {
   "cell_type": "code",
   "execution_count": 4,
   "id": "166a9a3e",
   "metadata": {},
   "outputs": [
    {
     "name": "stdout",
     "output_type": "stream",
     "text": [
      "███████████████████████████████████████████████████████████████████████████████- 99.90%\n",
      "elapsed time = 11.85 min, time remain = 0.01 min\n"
     ]
    }
   ],
   "source": [
    "start_time = time.time()\n",
    "with writer.saving(fig, f\"results/{bag_name}.mp4\", 100):\n",
    "    for frame_idx in range(total_frames):\n",
    "        start_readframe_time = time.time()\n",
    "        # Store next frameset for later processing:\n",
    "        frameset = pipe.wait_for_frames()\n",
    "        color_frame = frameset.get_color_frame()\n",
    "        depth_frame = frameset.get_depth_frame()\n",
    "\n",
    "        # visualize the capture frame\n",
    "        color = np.asanyarray(color_frame.get_data())\n",
    "        colorizer = rs.colorizer()\n",
    "        colorized_depth = np.asanyarray(colorizer.colorize(depth_frame).get_data())\n",
    "        H,W = color.shape[:2]\n",
    "        gray = np.mean(colorized_depth,axis=2).astype(np.uint8)\n",
    "\n",
    "        # align rgb and depth image\n",
    "        align = rs.align(rs.stream.color)\n",
    "        frameset = align.process(frameset)\n",
    "\n",
    "        # Update color and depth frames:\n",
    "        aligned_depth_frame = frameset.get_depth_frame()\n",
    "        colorized_depth = np.asanyarray(colorizer.colorize(aligned_depth_frame).get_data())\n",
    "        depth_scale = profile.get_device().first_depth_sensor().get_depth_scale()\n",
    "        depth = np.asanyarray(aligned_depth_frame.get_data())\n",
    "        depth = depth*depth_scale\n",
    "        end_readframe_time = time.time()\n",
    "        \n",
    "        \n",
    "        # get pose\n",
    "        \n",
    "        intersections, vectors1, vectors2 = get_pose(color,depth,K)\n",
    "        \n",
    "        \n",
    "#         # # visualize \n",
    "#         # 1 - filtered\n",
    "#         axarr[0].clear()\n",
    "#         axarr[0].imshow(color_top_full)\n",
    "#         axarr[0].title.set_text('slicing out top layer')\n",
    "\n",
    "#         # 2 - initial GMM\n",
    "#         axarr[1].clear()\n",
    "#         axarr[1].imshow(depth_top,cmap = \"Greys\")\n",
    "#         my_gmm.plot_results(X,gmm_list='original',ax = axarr[1])\n",
    "#         axarr[1].title.set_text('initial GMM')\n",
    "#         axarr[1].invert_yaxis()\n",
    "\n",
    "\n",
    "#         3 - filter out fat\n",
    "#         axarr[2].clear()\n",
    "#         axarr[2].imshow(depth_top,cmap=\"Greys\")\n",
    "#         my_gmm.filter_GMM(X,filter_ratio=4) # change accordingly\n",
    "#         my_gmm.merge_GMM(X)\n",
    "#         my_gmm.filter_list = my_gmm.merge_list\n",
    "#         my_gmm.plot_results(X,gmm_list='merge_list',ax = axarr[2])\n",
    "#         axarr[2].invert_yaxis()\n",
    "#         axarr[2].title.set_text('filter out fat GMM')\n",
    "\n",
    "#         4 - generate pose\n",
    "        axarr[3].clear()\n",
    "        axarr[3].imshow(color)\n",
    "        if len(intersections)!=0:\n",
    "            axarr[3].scatter(intersections[:,0],intersections[:,1],100)\n",
    "        for (px,py),(v1x,v1y),(v2x,v2y) in zip(intersections,vectors1,vectors2):\n",
    "            vlength = 100\n",
    "            if v1x<0:\n",
    "                v1x = -v1x; v1y=-v1y\n",
    "            if v2x<0:\n",
    "                v2x = -v2x; v2y = -v2y\n",
    "            axarr[3].arrow(px,py,vlength*v1x,vlength*v1y,head_width=30)\n",
    "            axarr[3].arrow(px,py,vlength*v2x,vlength*v2y,head_width=30)       \n",
    "            \n",
    "        axarr[3].title.set_text('final vector')\n",
    "        axarr[3].set_xlim(0,1280); axarr[3].set_ylim(0,720)\n",
    "        axarr[3].invert_yaxis()\n",
    "\n",
    "        fig.suptitle(f'frame = {frame_idx}/{total_frames}')\n",
    "        writer.grab_frame()\n",
    "        \n",
    "        # progress bar\n",
    "        clear_output(wait=True)\n",
    "#         print(f\"plane segmentation time = {end_plane_seg_time - start_plane_seg_time:.4f} s, GMM time = {end_gmm_time-start_gmm_time:.4f} s\")\n",
    "#         print(f\"linear regression time = {end_linear_regression_time - start_linear_regression_time:.4f} s\")\n",
    "#         print(f\"forward projection time = {end_projection_time-start_projection_time:.4f} s, back projection time = {end_backproj_time - start_backproj_time:.4f} s\") \n",
    "#         print(f\"prepare_gmm_time = {end_prepare_gmm_time - start_prepare_gmm_time:.4f} s\")\n",
    "#         print(f\"readframe_time = {end_readframe_time-start_readframe_time:.4f} s\")\n",
    "#         print(f\"saving the {frame_idx}/{total_frames} frame\")\n",
    "        elapsed_time = time.time() - start_time\n",
    "        bar_width= 80\n",
    "        b = int(bar_width * frame_idx / total_frames)\n",
    "        l = bar_width - b\n",
    "        print(u\"\\u2588\" * int(b) + '-' * int(l),f'{frame_idx/total_frames*100:.2f}%')\n",
    "        print(f\"elapsed time = {elapsed_time/60:.2f} min, time remain = {elapsed_time/(1+frame_idx)*(total_frames-frame_idx)/60:.2f} min\")\n",
    "        \n",
    "        "
   ]
  },
  {
   "cell_type": "code",
   "execution_count": 5,
   "id": "9af37ab8",
   "metadata": {},
   "outputs": [
    {
     "data": {
      "text/html": [
       "<video src=\"results/single_layer.mp4\" controls  >\n",
       "      Your browser does not support the <code>video</code> element.\n",
       "    </video>"
      ],
      "text/plain": [
       "<IPython.core.display.Video object>"
      ]
     },
     "execution_count": 5,
     "metadata": {},
     "output_type": "execute_result"
    }
   ],
   "source": [
    "Video(f\"results/{bag_name}.mp4\")"
   ]
  },
  {
   "cell_type": "code",
   "execution_count": null,
   "id": "eed491ba",
   "metadata": {},
   "outputs": [],
   "source": []
  }
 ],
 "metadata": {
  "kernelspec": {
   "display_name": "Python 3 (ipykernel)",
   "language": "python",
   "name": "python3"
  },
  "language_info": {
   "codemirror_mode": {
    "name": "ipython",
    "version": 3
   },
   "file_extension": ".py",
   "mimetype": "text/x-python",
   "name": "python",
   "nbconvert_exporter": "python",
   "pygments_lexer": "ipython3",
   "version": "3.8.10"
  }
 },
 "nbformat": 4,
 "nbformat_minor": 5
}
