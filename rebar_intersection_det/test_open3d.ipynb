{
 "cells": [
  {
   "cell_type": "code",
   "execution_count": 1,
   "id": "7c485b5c",
   "metadata": {},
   "outputs": [],
   "source": [
    "import numpy as np\n",
    "import open3d as o3d\n",
    "\n"
   ]
  },
  {
   "cell_type": "code",
   "execution_count": 2,
   "id": "dba84db0",
   "metadata": {},
   "outputs": [],
   "source": [
    "\n",
    "# generate some neat n times 3 matrix using a variant of sync function\n",
    "x = np.linspace(-3, 3, 401)\n",
    "mesh_x, mesh_y = np.meshgrid(x, x)\n",
    "z = np.sinc((np.power(mesh_x, 2) + np.power(mesh_y, 2)))\n",
    "z_norm = (z - z.min()) / (z.max() - z.min())\n",
    "xyz = np.zeros((np.size(mesh_x), 3))\n",
    "xyz[:, 0] = np.reshape(mesh_x, -1)\n",
    "xyz[:, 1] = np.reshape(mesh_y, -1)\n",
    "xyz[:, 2] = np.reshape(z_norm, -1)\n",
    "# print('xyz')\n",
    "# print(xyz)\n",
    "\n",
    "# Pass xyz to Open3D.o3d.geometry.PointCloud and visualize\n",
    "pcd = o3d.geometry.PointCloud()\n",
    "pcd.points = o3d.utility.Vector3dVector(xyz)\n",
    "# o3d.io.write_point_cloud(\"../../TestData/sync.ply\", pcd)\n",
    "\n",
    "\n",
    "# o3d.visualization.draw_geometries([pcd])\n",
    "v = o3d.visualization.Visualizer()\n",
    "v.create_window()\n",
    "v.add_geometry(pcd)\n",
    "v.run()\n",
    "# v.close()\n",
    "v.destroy_window()\n",
    "# o3d.destroy_window()\n",
    "\n",
    "# Load saved point cloud and visualize it\n",
    "# pcd_load = o3d.io.read_point_cloud(\"../../TestData/sync.ply\")\n",
    "# o3d.visualization.draw_geometries([pcd_load])\n",
    "\n",
    "# convert Open3D.o3d.geometry.PointCloud to numpy array\n",
    "# xyz_load = np.asarray(pcd_load.points)\n",
    "# print('xyz_load')\n",
    "# print(xyz_load)\n",
    "\n",
    "# # save z_norm as an image (change [0,1] range to [0,255] range with uint8 type)\n",
    "# img = o3d.geometry.Image((z_norm * 255).astype(np.uint8))\n",
    "# o3d.io.write_image(\"../../TestData/sync.png\", img)\n",
    "# o3d.visualization.draw_geometries([img])"
   ]
  },
  {
   "cell_type": "code",
   "execution_count": null,
   "id": "08e4f307",
   "metadata": {},
   "outputs": [],
   "source": []
  },
  {
   "cell_type": "code",
   "execution_count": null,
   "id": "34b565d0",
   "metadata": {},
   "outputs": [],
   "source": []
  },
  {
   "cell_type": "code",
   "execution_count": null,
   "id": "7ef0ee75",
   "metadata": {},
   "outputs": [],
   "source": []
  }
 ],
 "metadata": {
  "kernelspec": {
   "display_name": "Python 3",
   "language": "python",
   "name": "python3"
  },
  "language_info": {
   "codemirror_mode": {
    "name": "ipython",
    "version": 3
   },
   "file_extension": ".py",
   "mimetype": "text/x-python",
   "name": "python",
   "nbconvert_exporter": "python",
   "pygments_lexer": "ipython3",
   "version": "3.6.15"
  }
 },
 "nbformat": 4,
 "nbformat_minor": 5
}
