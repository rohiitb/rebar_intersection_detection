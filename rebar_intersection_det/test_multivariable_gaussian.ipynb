{
 "cells": [
  {
   "cell_type": "code",
   "execution_count": 56,
   "id": "d78baa2a",
   "metadata": {},
   "outputs": [],
   "source": [
    "import numpy as np"
   ]
  },
  {
   "cell_type": "code",
   "execution_count": 57,
   "id": "8a48dbe4",
   "metadata": {},
   "outputs": [],
   "source": [
    "mu1 = np.array([0,1])\n",
    "cov1 = np.array([[3,2],[2,3]])\n",
    "n1 = 30000\n",
    "x1 = np.random.multivariate_normal(mu1, cov1, size=n1, check_valid='warn', tol=1e-8)\n",
    "mu1 = np.expand_dims(x1.mean(0),1)\n",
    "cov1 = np.cov(x1.T)\n",
    "\n",
    "mu2 = np.array([3,0])\n",
    "cov2 = np.array([[0.3,0.2],[0.2,0.3]])\n",
    "n2 = 30000\n",
    "x2 = np.random.multivariate_normal(mu2, cov2, size=n2, check_valid='warn', tol=1e-8)\n",
    "mu2 = np.expand_dims(x2.mean(0),1)\n",
    "cov2 = np.cov(x2.T)\n"
   ]
  },
  {
   "cell_type": "code",
   "execution_count": 58,
   "id": "1709066c",
   "metadata": {},
   "outputs": [],
   "source": [
    "x = np.vstack((x1,x2))\n",
    "mu_real = np.expand_dims(x.mean(0),1)\n",
    "cov_real = np.cov(x.T)"
   ]
  },
  {
   "cell_type": "code",
   "execution_count": 59,
   "id": "d0b93fba",
   "metadata": {},
   "outputs": [],
   "source": [
    "n = n1+n2\n",
    "mu_comp = (n1*mu1 + n2*mu2)/n\n",
    "\n",
    "cov_comp = (n1**2*cov1 + n2**2*cov2 + (n1*mu1 + n2*mu2)@(n1*mu1+n2*mu2).T)/n**2 - mu_comp@mu_comp.T\n",
    "cov_comp1 = (n1/n)**2*cov1 + (n2/n)**2*cov2\n",
    "cov_comp2 = cov1@np.linalg.inv(cov1+cov2)@cov2\n",
    "\n",
    "p1 = n1/n;p2=n2/n\n",
    "cov_comp3 = n1*"
   ]
  },
  {
   "cell_type": "code",
   "execution_count": 60,
   "id": "803b1c45",
   "metadata": {},
   "outputs": [
    {
     "name": "stdout",
     "output_type": "stream",
     "text": [
      "[[0.00000000e+00]\n",
      " [3.33066907e-16]]\n",
      "[[ 3.06622921 -0.2101446 ]\n",
      " [-0.2101446   1.07601423]]\n",
      "[[3.61304592 0.15691945]\n",
      " [0.15691945 1.62644441]]\n"
     ]
    }
   ],
   "source": [
    "print(mu_real - mu_comp)\n",
    "print(cov_real - cov_comp)\n",
    "print(cov_real-cov_comp2)"
   ]
  },
  {
   "cell_type": "code",
   "execution_count": 54,
   "id": "2b5507f0",
   "metadata": {},
   "outputs": [
    {
     "data": {
      "text/plain": [
       "array([[0.27297079, 0.18145889],\n",
       "       [0.18145889, 0.27198893]])"
      ]
     },
     "execution_count": 54,
     "metadata": {},
     "output_type": "execute_result"
    }
   ],
   "source": [
    "cov1@np.linalg.inv(cov1+cov2)@cov2"
   ]
  },
  {
   "cell_type": "code",
   "execution_count": 55,
   "id": "9fda54f2",
   "metadata": {},
   "outputs": [
    {
     "data": {
      "text/plain": [
       "array([[3.89997602, 0.3525411 ],\n",
       "       [0.3525411 , 1.90928943]])"
      ]
     },
     "execution_count": 55,
     "metadata": {},
     "output_type": "execute_result"
    }
   ],
   "source": [
    "cov_real"
   ]
  }
 ],
 "metadata": {
  "kernelspec": {
   "display_name": "Python 3 (ipykernel)",
   "language": "python",
   "name": "python3"
  },
  "language_info": {
   "codemirror_mode": {
    "name": "ipython",
    "version": 3
   },
   "file_extension": ".py",
   "mimetype": "text/x-python",
   "name": "python",
   "nbconvert_exporter": "python",
   "pygments_lexer": "ipython3",
   "version": "3.8.10"
  }
 },
 "nbformat": 4,
 "nbformat_minor": 5
}
