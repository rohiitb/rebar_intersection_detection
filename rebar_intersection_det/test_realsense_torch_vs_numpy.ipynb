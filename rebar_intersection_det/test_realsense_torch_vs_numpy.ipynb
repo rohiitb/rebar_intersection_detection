{
 "cells": [
  {
   "cell_type": "code",
   "execution_count": 1,
   "id": "cb0bccb6",
   "metadata": {},
   "outputs": [],
   "source": [
    "import itertools\n",
    "import cv2\n",
    "import numpy as np\n",
    "from scipy import linalg\n",
    "import matplotlib.pyplot as plt\n",
    "import matplotlib as mpl\n",
    "import src.mymodel.gmm as mygmm\n",
    "import torch\n",
    "import time\n",
    "from sklearn import mixture\n",
    "import warnings\n",
    "warnings.filterwarnings('ignore')\n",
    "%load_ext autoreload\n",
    "%autoreload 2\n",
    "\n",
    "\n"
   ]
  },
  {
   "cell_type": "code",
   "execution_count": 2,
   "id": "d77c35ed",
   "metadata": {},
   "outputs": [
    {
     "name": "stdout",
     "output_type": "stream",
     "text": [
      "(2949, 2)\n"
     ]
    },
    {
     "data": {
      "image/png": "[encoded data removed]",
      "text/plain": [
       "<Figure size 432x288 with 1 Axes>"
      ]
     },
     "metadata": {
      "needs_background": "light"
     },
     "output_type": "display_data"
    }
   ],
   "source": [
    "img = cv2.imread('data/point_cloud_to_image.png',cv2.IMREAD_GRAYSCALE)\n",
    "bitmap = img < 100\n",
    "H,W = bitmap.shape\n",
    "# print(bitmap.shape)\n",
    "U = np.array([range(W) for _ in range(H)])\n",
    "V = np.array([range(H) for _ in range(W)]).T\n",
    "u = U[bitmap]\n",
    "v = V[bitmap]\n",
    "\n",
    "X = np.c_[u,v].astype(np.float)\n",
    "X = X[::10,:]\n",
    "\n",
    "plt.scatter(X[:,0],X[:,1],s=1,color='k')\n",
    "plt.gca().invert_yaxis()\n",
    "print(X.shape)"
   ]
  },
  {
   "cell_type": "code",
   "execution_count": 3,
   "id": "66cb31a3",
   "metadata": {},
   "outputs": [
    {
     "name": "stdout",
     "output_type": "stream",
     "text": [
      "1.1 s ± 424 ms per loop (mean ± std. dev. of 7 runs, 1 loop each)\n"
     ]
    }
   ],
   "source": [
    "%%timeit\n",
    "numpy_gmm = mygmm.GMM(n_components=30, max_iter =30)\n",
    "numpy_gmm.fit(X);\n",
    "numpy_gmm.filter_GMM(X,filter_ratio=4);\n",
    "numpy_gmm.merge_GMM(X);"
   ]
  },
  {
   "cell_type": "code",
   "execution_count": 4,
   "id": "2f457184",
   "metadata": {},
   "outputs": [
    {
     "name": "stdout",
     "output_type": "stream",
     "text": [
      "786 ms ± 382 ms per loop (mean ± std. dev. of 7 runs, 1 loop each)\n"
     ]
    }
   ],
   "source": [
    "%%timeit\n",
    "X_tensor = torch.from_numpy(X).unsqueeze(0) # convert to tensor\n",
    "torch_gmm = mygmm.GMM_torch(n_components=30, max_iter =30)\n",
    "torch_gmm.fit(X_tensor);\n",
    "torch_gmm.filter_GMM(X_tensor,filter_ratio=4);\n",
    "torch_gmm.merge_GMM(X_tensor)"
   ]
  },
  {
   "cell_type": "code",
   "execution_count": 9,
   "id": "6ba85111",
   "metadata": {},
   "outputs": [
    {
     "name": "stdout",
     "output_type": "stream",
     "text": [
      "124 µs ± 13.5 µs per loop (mean ± std. dev. of 7 runs, 10,000 loops each)\n"
     ]
    }
   ],
   "source": [
    "%%timeit\n",
    "X_tensor = torch.from_numpy(X).unsqueeze(0).cuda() # convert to tensor\n"
   ]
  },
  {
   "cell_type": "code",
   "execution_count": 8,
   "id": "a4841eeb",
   "metadata": {},
   "outputs": [
    {
     "name": "stdout",
     "output_type": "stream",
     "text": [
      "249 ms ± 77.6 ms per loop (mean ± std. dev. of 7 runs, 1 loop each)\n"
     ]
    }
   ],
   "source": [
    "%%timeit\n",
    "X_tensor = torch.from_numpy(X).unsqueeze(0).cuda() # convert to tensor\n",
    "torch_gmm = mygmm.GMM_torch(n_components=30, max_iter =30)\n",
    "torch_gmm.fit(X_tensor);\n",
    "torch_gmm.filter_GMM(X_tensor,filter_ratio=4);\n",
    "torch_gmm.merge_GMM(X_tensor)"
   ]
  },
  {
   "cell_type": "code",
   "execution_count": null,
   "id": "93efb374",
   "metadata": {},
   "outputs": [],
   "source": []
  },
  {
   "cell_type": "code",
   "execution_count": null,
   "id": "c2c5462e",
   "metadata": {},
   "outputs": [],
   "source": [
    "X_tensor = torch.from_numpy(X).unsqueeze(0) # convert to tensor\n",
    "torch_gmm = mygmm.GMM_torch(n_components=30, max_iter =30)\n",
    "torch_gmm.fit(X_tensor);\n",
    "torch_gmm.filter_GMM(X_tensor,filter_ratio=4);\n",
    "torch_gmm.merge_GMM(X_tensor)\n",
    "torch_gmm.plot_results(X_tensor)\n",
    "plt.xlim([X[:,0].min(),X[:,0].max()])\n",
    "plt.ylim([X[:,1].min(),X[:,1].max()])"
   ]
  },
  {
   "cell_type": "code",
   "execution_count": null,
   "id": "d8af7836",
   "metadata": {},
   "outputs": [],
   "source": [
    "numpy_gmm = mygmm.GMM(n_components=30, max_iter =30)\n",
    "numpy_gmm.fit(X);\n",
    "numpy_gmm.filter_GMM(X,filter_ratio=4);\n",
    "numpy_gmm.merge_GMM(X);\n",
    "numpy_gmm.plot_results(X)\n",
    "plt.xlim([X[:,0].min(),X[:,0].max()])\n",
    "plt.ylim([X[:,1].min(),X[:,1].max()])"
   ]
  }
 ],
 "metadata": {
  "kernelspec": {
   "display_name": "Python 3 (ipykernel)",
   "language": "python",
   "name": "python3"
  },
  "language_info": {
   "codemirror_mode": {
    "name": "ipython",
    "version": 3
   },
   "file_extension": ".py",
   "mimetype": "text/x-python",
   "name": "python",
   "nbconvert_exporter": "python",
   "pygments_lexer": "ipython3",
   "version": "3.8.10"
  }
 },
 "nbformat": 4,
 "nbformat_minor": 5
}
