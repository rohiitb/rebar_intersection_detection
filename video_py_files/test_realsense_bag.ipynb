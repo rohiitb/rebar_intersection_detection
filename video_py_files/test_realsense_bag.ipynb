{
 "cells": [
  {
   "cell_type": "code",
   "execution_count": 1,
   "id": "de70b439",
   "metadata": {
    "scrolled": true
   },
   "outputs": [
    {
     "ename": "ValueError",
     "evalue": "cannot reshape array of size 2764800 into shape (480,848,3)",
     "output_type": "error",
     "traceback": [
      "\u001b[0;31m---------------------------------------------------------------------------\u001b[0m",
      "\u001b[0;31mValueError\u001b[0m                                Traceback (most recent call last)",
      "\u001b[0;32m<ipython-input-1-9ca852376ba6>\u001b[0m in \u001b[0;36m<module>\u001b[0;34m\u001b[0m\n\u001b[1;32m     16\u001b[0m         \u001b[0mK\u001b[0m \u001b[0;34m=\u001b[0m \u001b[0mmsg\u001b[0m\u001b[0;34m.\u001b[0m\u001b[0mK\u001b[0m\u001b[0;34m\u001b[0m\u001b[0;34m\u001b[0m\u001b[0m\n\u001b[1;32m     17\u001b[0m     \u001b[0;32mif\u001b[0m \u001b[0mtopic\u001b[0m \u001b[0;34m==\u001b[0m \u001b[0mtopics\u001b[0m\u001b[0;34m[\u001b[0m\u001b[0;36m2\u001b[0m\u001b[0;34m]\u001b[0m\u001b[0;34m:\u001b[0m\u001b[0;34m\u001b[0m\u001b[0;34m\u001b[0m\u001b[0m\n\u001b[0;32m---> 18\u001b[0;31m         \u001b[0mimg_color\u001b[0m \u001b[0;34m=\u001b[0m \u001b[0mnp\u001b[0m\u001b[0;34m.\u001b[0m\u001b[0mfrombuffer\u001b[0m\u001b[0;34m(\u001b[0m\u001b[0mmsg\u001b[0m\u001b[0;34m.\u001b[0m\u001b[0mdata\u001b[0m\u001b[0;34m,\u001b[0m \u001b[0mdtype\u001b[0m\u001b[0;34m=\u001b[0m\u001b[0mnp\u001b[0m\u001b[0;34m.\u001b[0m\u001b[0muint8\u001b[0m\u001b[0;34m)\u001b[0m\u001b[0;34m.\u001b[0m\u001b[0mreshape\u001b[0m\u001b[0;34m(\u001b[0m\u001b[0mH\u001b[0m\u001b[0;34m,\u001b[0m\u001b[0mW\u001b[0m\u001b[0;34m,\u001b[0m\u001b[0;36m3\u001b[0m\u001b[0;34m)\u001b[0m\u001b[0;34m\u001b[0m\u001b[0;34m\u001b[0m\u001b[0m\n\u001b[0m\u001b[1;32m     19\u001b[0m         \u001b[0;31m# count +=1\u001b[0m\u001b[0;34m\u001b[0m\u001b[0;34m\u001b[0m\u001b[0;34m\u001b[0m\u001b[0m\n\u001b[1;32m     20\u001b[0m     \u001b[0;32mif\u001b[0m \u001b[0mtopic\u001b[0m \u001b[0;34m==\u001b[0m \u001b[0mtopics\u001b[0m\u001b[0;34m[\u001b[0m\u001b[0;36m3\u001b[0m\u001b[0;34m]\u001b[0m\u001b[0;34m:\u001b[0m\u001b[0;34m\u001b[0m\u001b[0;34m\u001b[0m\u001b[0m\n",
      "\u001b[0;31mValueError\u001b[0m: cannot reshape array of size 2764800 into shape (480,848,3)"
     ]
    }
   ],
   "source": [
    "\n",
    "import rosbag\n",
    "import matplotlib.pyplot as plt\n",
    "import numpy as np\n",
    "\n",
    "bag = rosbag.Bag('data/with_objects_multi_layer.bag')\n",
    "count = 0\n",
    "# for topic, msg, t in bag.read_messages(['/device_0/sensor_1/Color_0/image/data',\n",
    "#                                         '/device_0/sensor_0/Depth_0/image/data']):\n",
    "topics = []\n",
    "count_loop = 0\n",
    "topics = ['/device_0/sensor_0/Depth_0/info/camera_info','/device_0/sensor_1/Color_0/info/camera_info','/device_0/sensor_1/Color_0/image/data','/device_0/sensor_0/Depth_0/image/data']\n",
    "for topic, msg, t in bag.read_messages():\n",
    "    if topic == topics[0]:\n",
    "        H = msg.height\n",
    "        W = msg.width\n",
    "        K = msg.K\n",
    "    if topic == topics[2]:\n",
    "        img_color = np.frombuffer(msg.data, dtype=np.uint8).reshape(H,W,3)\n",
    "        # count +=1\n",
    "    if topic == topics[3]:\n",
    "        img_depth = np.frombuffer(msg.data, dtype=np.uint8).reshape(H,W,2)\n",
    "\n",
    "    if count_loop  > 500:\n",
    "        break\n",
    "    count_loop +=1\n",
    "\n",
    "    if count >1:\n",
    "        break\n",
    "bag.close()\n",
    "\n"
   ]
  },
  {
   "cell_type": "code",
   "execution_count": 10,
   "id": "ec080b25",
   "metadata": {
    "scrolled": true
   },
   "outputs": [
    {
     "name": "stdout",
     "output_type": "stream",
     "text": [
      "/device_0/sensor_1/Color_0/info/camera_info\n",
      "(915.6973266601562, 0.0, 627.21875, 0.0, 914.3394775390625, 349.1913146972656, 0.0, 0.0, 1.0)\n"
     ]
    }
   ],
   "source": [
    "import rosbag\n",
    "import matplotlib.pyplot as plt\n",
    "import numpy as np\n",
    "bag = rosbag.Bag('data/with_objects_multi_layer.bag')\n",
    "count_loop = 0\n",
    "for topic, msg, t in bag.read_messages():\n",
    "    if 'Color_0/info/camera_info' in topic:\n",
    "        print(topic)\n",
    "        print(msg.K)\n",
    "\n",
    "    count_loop +=1\n",
    "    if count_loop > 4000:\n",
    "        break\n",
    "bag.close()"
   ]
  },
  {
   "cell_type": "code",
   "execution_count": null,
   "id": "c90e92bb",
   "metadata": {},
   "outputs": [],
   "source": []
  }
 ],
 "metadata": {
  "kernelspec": {
   "display_name": "Python 3",
   "language": "python",
   "name": "python3"
  },
  "language_info": {
   "codemirror_mode": {
    "name": "ipython",
    "version": 3
   },
   "file_extension": ".py",
   "mimetype": "text/x-python",
   "name": "python",
   "nbconvert_exporter": "python",
   "pygments_lexer": "ipython3",
   "version": "3.6.15"
  }
 },
 "nbformat": 4,
 "nbformat_minor": 5
}
