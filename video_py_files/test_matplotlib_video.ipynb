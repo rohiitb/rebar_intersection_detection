{
 "cells": [
  {
   "cell_type": "code",
   "execution_count": 19,
   "id": "43729a15",
   "metadata": {},
   "outputs": [
    {
     "data": {
      "text/html": [
       "<video src=\"writer_test.mp4\" controls  >\n",
       "      Your browser does not support the <code>video</code> element.\n",
       "    </video>"
      ],
      "text/plain": [
       "<IPython.core.display.Video object>"
      ]
     },
     "execution_count": 19,
     "metadata": {},
     "output_type": "execute_result"
    },
    {
     "data": {
      "image/png": "[encoded data removed]",
      "text/plain": [
       "<Figure size 432x288 with 1 Axes>"
      ]
     },
     "metadata": {
      "needs_background": "light"
     },
     "output_type": "display_data"
    }
   ],
   "source": [
    "import numpy as np\n",
    "import matplotlib\n",
    "matplotlib.use(\"Agg\")\n",
    "import matplotlib.pyplot as plt\n",
    "import matplotlib.animation as manimation\n",
    "from IPython.display import Video\n",
    "\n",
    "# Fixing random state for reproducibility\n",
    "np.random.seed(19680801)\n",
    "\n",
    "\n",
    "FFMpegWriter = manimation.writers['ffmpeg']\n",
    "metadata = dict(title='Movie Test', artist='Matplotlib',\n",
    "                comment='Movie support!')\n",
    "writer = FFMpegWriter(fps=15, metadata=metadata)\n",
    "\n",
    "fig = plt.figure()\n",
    "l, = plt.plot([], [], 'k-o')\n",
    "\n",
    "plt.xlim(-5, 5)\n",
    "plt.ylim(-5, 5)\n",
    "\n",
    "x0, y0 = 0, 0\n",
    "with writer.saving(fig, \"writer_test.mp4\", 100):\n",
    "    for i in range(100):\n",
    "        x0 += 0.1 * np.random.randn()\n",
    "        y0 += 0.1 * np.random.randn()\n",
    "        plt.clf()\n",
    "        plt.scatter(x0, y0)\n",
    "        writer.grab_frame()\n",
    "Video(\"writer_test.mp4\")\n",
    "\n"
   ]
  },
  {
   "cell_type": "code",
   "execution_count": null,
   "id": "dee484fe",
   "metadata": {},
   "outputs": [],
   "source": []
  }
 ],
 "metadata": {
  "kernelspec": {
   "display_name": "Python 3",
   "language": "python",
   "name": "python3"
  },
  "language_info": {
   "codemirror_mode": {
    "name": "ipython",
    "version": 3
   },
   "file_extension": ".py",
   "mimetype": "text/x-python",
   "name": "python",
   "nbconvert_exporter": "python",
   "pygments_lexer": "ipython3",
   "version": "3.6.15"
  }
 },
 "nbformat": 4,
 "nbformat_minor": 5
}
